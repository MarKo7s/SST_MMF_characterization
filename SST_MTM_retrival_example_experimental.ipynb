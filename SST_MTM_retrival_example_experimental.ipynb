{
 "cells": [
  {
   "cell_type": "code",
   "execution_count": 1,
   "metadata": {},
   "outputs": [],
   "source": [
    "%matplotlib inline\n",
    "%load_ext autoreload\n",
    "%autoreload 2"
   ]
  },
  {
   "cell_type": "markdown",
   "metadata": {},
   "source": [
    "# Path to Custom Modules:"
   ]
  },
  {
   "cell_type": "code",
   "execution_count": 2,
   "metadata": {},
   "outputs": [],
   "source": [
    "import os\n",
    "import sys"
   ]
  },
  {
   "cell_type": "code",
   "execution_count": 3,
   "metadata": {},
   "outputs": [],
   "source": [
    "path_to_folder = os.getcwd()\n",
    "path_to_custom_modules = path_to_folder + '\\\\MODULES'\n",
    "sys.path.append(path_to_custom_modules)"
   ]
  },
  {
   "cell_type": "code",
   "execution_count": 4,
   "metadata": {},
   "outputs": [],
   "source": [
    "from stokes.retrivalMTM import *\n",
    "from custom_plotting import complexToRGB\n",
    "import pickle\n",
    "import re #regex for creating string\n"
   ]
  },
  {
   "cell_type": "markdown",
   "metadata": {},
   "source": [
    "# Path to the experimental data and SST setup:"
   ]
  },
  {
   "cell_type": "code",
   "execution_count": 5,
   "metadata": {},
   "outputs": [],
   "source": [
    "path_to_stokes_set_up_library = path_to_folder + '\\\\SST_setup\\\\StokesTomagraphySetUp_projections_1770.pkl' # Needed for the Gellman matrices and unique eigenvalues of them\n",
    "path_to_stokes_Intensity_Sweep = path_to_folder + '\\\\experimental_data\\\\030423_5_mode_groups_BW_40nm_1300nm_N_118_wav' #Acquiered Experimental data for 5 mode groups 2 pols at 0,5,10,20,30 nm bandwidth sources"
   ]
  },
  {
   "cell_type": "code",
   "execution_count": 6,
   "metadata": {},
   "outputs": [
    {
     "data": {
      "text/plain": [
       "dict_keys(['Gellman', 'stokeStates', 'stokeWeights', 'modegroup', 'polcount'])"
      ]
     },
     "execution_count": 6,
     "metadata": {},
     "output_type": "execute_result"
    }
   ],
   "source": [
    "with open(path_to_stokes_set_up_library,'rb') as file:\n",
    "     stokesSetUp = pickle.load(file)\n",
    "stokesSetUp.keys()"
   ]
  },
  {
   "cell_type": "code",
   "execution_count": 7,
   "metadata": {},
   "outputs": [
    {
     "name": "stdout",
     "output_type": "stream",
     "text": [
      "0 - BW_0nm\n",
      "1 - BW_5nm\n",
      "2 - BW_10nm\n",
      "3 - BW_20nm\n",
      "4 - BW_30nm\n",
      "5 - BW_40nm\n"
     ]
    }
   ],
   "source": [
    "# Discover the folder and list the files:\n",
    "stokes_intensity_results = sorted(os.listdir(path_to_stokes_Intensity_Sweep), key = len)\n",
    "for fileIdx, filename in enumerate(stokes_intensity_results):\n",
    "    print(f'{fileIdx} - {filename}') "
   ]
  },
  {
   "cell_type": "code",
   "execution_count": 8,
   "metadata": {},
   "outputs": [],
   "source": [
    "name_keyword_path = r\"(?P<date>\\w+)_(?P<modegroups>\\w+)_mode_groups_BW_(?P<bwTotal>\\w+)_(?P<wav>\\w+)_N_(?P<sampling>\\w+)_wav\"\n",
    "name_keyword_file = r\"BW_(?P<bw>\\w+)\""
   ]
  },
  {
   "cell_type": "markdown",
   "metadata": {},
   "source": [
    "# Automatic MTM retrival for all $\\Delta\\lambda_S$"
   ]
  },
  {
   "cell_type": "code",
   "execution_count": 9,
   "metadata": {},
   "outputs": [],
   "source": [
    "MFD_retrival = 18.8 #Input mode field diameter for spot to LG conversion during processing of the data"
   ]
  },
  {
   "cell_type": "code",
   "execution_count": 20,
   "metadata": {},
   "outputs": [],
   "source": [
    "MTM_retrival_Object = Stokes_Tomography_MTM_retrival(StokesTomographySetUp = stokesSetUp, MFD_retrival = MFD_retrival, forcePSD = False)"
   ]
  },
  {
   "cell_type": "code",
   "execution_count": 21,
   "metadata": {},
   "outputs": [
    {
     "name": "stdout",
     "output_type": "stream",
     "text": [
      "MTM 40nm retrieved\n"
     ]
    }
   ],
   "source": [
    "labels = []\n",
    "for fileIdx, filename in enumerate(stokes_intensity_results):\n",
    "    path_to_data = path_to_stokes_Intensity_Sweep + '\\\\' + filename + '\\\\'\n",
    "    fields = re.match(name_keyword_file, filename)\n",
    "    label = fields.group('bw')\n",
    "    labels.append(label)\n",
    "    print(label,path_to_data)\n",
    "    MTM_retrival_Object.process_measurement(path_to_data, label = label)"
   ]
  },
  {
   "cell_type": "markdown",
   "metadata": {},
   "source": [
    "# Interactive visualizacion of the data"
   ]
  },
  {
   "cell_type": "code",
   "execution_count": 22,
   "metadata": {},
   "outputs": [],
   "source": [
    "from ipywidgets import interact, interactive, fixed, interact_manual\n",
    "import ipywidgets as widgets"
   ]
  },
  {
   "cell_type": "code",
   "execution_count": 23,
   "metadata": {},
   "outputs": [],
   "source": [
    "eigen_list = [0,1,2]\n",
    "def plot_MTM(Bandwidth, Eigenstate):\n",
    "    f, ax = subplots(1,2, figsize = (15,5))\n",
    "    ax[0].imshow(complexToRGB(MTM_retrival_Object.MTM[Bandwidth][Eigenstate]))\n",
    "    eig = r'$\\varphi$'\n",
    "    ax[0].set_title(f'MTM - $\\Delta_\\lambda$ {Bandwidth} - '+ eig + f' {Eigenstate}')\n",
    "    ax[0].set_xlabel('modes out')\n",
    "    ax[0].set_ylabel('modes in')\n",
    "    MTM_retrival_Object.showMTMSVD_interact(Bandwidth, ax[1])\n",
    "    "
   ]
  },
  {
   "cell_type": "code",
   "execution_count": 24,
   "metadata": {},
   "outputs": [
    {
     "data": {
      "application/vnd.jupyter.widget-view+json": {
       "model_id": "40a86e8fd5484ad8b6b427c9dfa9b537",
       "version_major": 2,
       "version_minor": 0
      },
      "text/plain": [
       "interactive(children=(Dropdown(description='Bandwidth', options=('0nm', '5nm', '10nm', '20nm', '30nm', '40nm')…"
      ]
     },
     "metadata": {},
     "output_type": "display_data"
    },
    {
     "data": {
      "text/plain": [
       "<function __main__.plot_MTM(Bandwidth, Eigenstate)>"
      ]
     },
     "execution_count": 24,
     "metadata": {},
     "output_type": "execute_result"
    }
   ],
   "source": [
    "interact(plot_MTM, Bandwidth = labels, Eigenstate = eigen_list) #Interact with the processed data"
   ]
  },
  {
   "cell_type": "code",
   "execution_count": null,
   "metadata": {},
   "outputs": [],
   "source": []
  }
 ],
 "metadata": {
  "kernelspec": {
   "display_name": "base",
   "language": "python",
   "name": "python3"
  },
  "language_info": {
   "codemirror_mode": {
    "name": "ipython",
    "version": 3
   },
   "file_extension": ".py",
   "mimetype": "text/x-python",
   "name": "python",
   "nbconvert_exporter": "python",
   "pygments_lexer": "ipython3",
   "version": "3.7.16"
  },
  "orig_nbformat": 4
 },
 "nbformat": 4,
 "nbformat_minor": 2
}
